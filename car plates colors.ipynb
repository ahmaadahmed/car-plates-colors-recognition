{
 "cells": [
  {
   "cell_type": "code",
   "execution_count": 1,
   "id": "82f0b60e",
   "metadata": {},
   "outputs": [],
   "source": [
    "import cv2\n",
    "import numpy as np"
   ]
  },
  {
   "cell_type": "code",
   "execution_count": 229,
   "id": "b75cfc38",
   "metadata": {},
   "outputs": [],
   "source": [
    "def capture_correct_color(image_path, target_brightness):\n",
    "    # Load the image\n",
    "    image = cv2.imread(image_path)\n",
    "\n",
    "    # Convert the image to the LAB color space\n",
    "    lab_image = cv2.cvtColor(image, cv2.COLOR_BGR2LAB)\n",
    "\n",
    "    # Split the LAB image into L, A, and B channels\n",
    "    l_channel, a_channel, b_channel = cv2.split(lab_image)\n",
    "\n",
    "    # Calculate the mean L value of the image\n",
    "    mean_l = np.mean(l_channel)\n",
    "\n",
    "    # Calculate the difference in brightness\n",
    "    brightness_diff = target_brightness - mean_l\n",
    "\n",
    "    # Adjust the L channel to correct the brightness\n",
    "    adjusted_l_channel = np.clip(l_channel + brightness_diff, 0, 255).astype(np.uint8)\n",
    "\n",
    "    # Merge the adjusted L channel with the original A and B channels\n",
    "    adjusted_lab_image = cv2.merge((adjusted_l_channel, a_channel, b_channel))\n",
    "\n",
    "    # Convert the adjusted LAB image back to the BGR color space\n",
    "    corrected_image = cv2.cvtColor(adjusted_lab_image, cv2.COLOR_LAB2BGR)\n",
    "\n",
    "    return corrected_image\n",
    "\n",
    "# Specify the path to your image file\n",
    "image_path = r'F:\\plate_model\\converted car plates\\1.PNG'\n",
    "\n",
    "# Specify the target brightness level (adjust as needed)\n",
    "target_brightness = 200\n",
    "\n",
    "# Capture the correct color from the image\n",
    "corrected_color = capture_correct_color(image_path, target_brightness)\n",
    "\n",
    "# Display the corrected color\n",
    "cv2.imshow(\"Corrected Color\", corrected_color)\n",
    "cv2.imwrite(r'F:\\plate_model\\converted car plates\\cov1.png', corrected_color)\n",
    "cv2.waitKey(0)\n",
    "cv2.destroyAllWindows()"
   ]
  },
  {
   "cell_type": "code",
   "execution_count": 230,
   "id": "dbda7ac5",
   "metadata": {},
   "outputs": [
    {
     "name": "stdout",
     "output_type": "stream",
     "text": [
      "ملاكي\n"
     ]
    }
   ],
   "source": [
    "def get_colors_from_image(image_path):\n",
    "    # Load the image\n",
    "    image = cv2.imread(image_path)\n",
    "    image = cv2.cvtColor(image, cv2.COLOR_BGR2RGB)\n",
    "\n",
    "    # Resize image to reduce processing time (optional)\n",
    "    # image = cv2.resize(image, (800, 600))\n",
    "\n",
    "    # Flatten the image to a 2D array\n",
    "    pixels = image.reshape(-1, 3)\n",
    "\n",
    "    colors = []\n",
    "    for pixel in pixels:\n",
    "        rgb = tuple(pixel)\n",
    "        colors.append(rgb)\n",
    "\n",
    "    return colors\n",
    "\n",
    "# Specify the path to your image file\n",
    "image_path = r'F:\\plate_model\\converted car plates\\cov1.png'\n",
    "\n",
    "# Get colors from the image\n",
    "image_colors = get_colors_from_image(image_path)\n",
    "\n",
    "# Print the RGB values and color names\n",
    "for rgb in image_colors:\n",
    "#     print(\"RGB: {}, Color Name: {}\".format(rgb, color_name))\n",
    "    from_rgb_to_array = np.array([[[rgb[0], rgb[1], rgb[2]]]], dtype=np.uint8)\n",
    "    # convert the color to HSV\n",
    "    hsvGreen = cv2.cvtColor(from_rgb_to_array, cv2.COLOR_BGR2HSV)\n",
    "\n",
    "    hue_value = hsvGreen[0][0][0]\n",
    "#     print(hue_value)\n",
    "\n",
    "    if hue_value == 17:\n",
    "        print(\"ملاكي\")\n",
    "        break\n",
    "        \n",
    "    elif hue_value == 106:\n",
    "        print(\"أجرة\")\n",
    "        break\n",
    "        \n",
    "    elif hue_value == 116:\n",
    "        print(\"نقل\")\n",
    "        break    \n",
    "    \n",
    "    elif hue_value == 101:\n",
    "        print(\"أوتوبيس سياحة\")\n",
    "        break    \n",
    "    \n",
    "    elif hue_value == 60:\n",
    "        print(\"جهة دبلوماسية\")\n",
    "        break   \n",
    "        \n",
    "    elif hue_value == 98:\n",
    "        print(\"جمركية\")\n",
    "        break \n",
    "        \n",
    "    elif hue_value == 3:\n",
    "        print(\"شرطة\")\n",
    "        break"
   ]
  },
  {
   "cell_type": "code",
   "execution_count": 183,
   "id": "d050ddff",
   "metadata": {},
   "outputs": [
    {
     "name": "stdout",
     "output_type": "stream",
     "text": [
      "98\n"
     ]
    }
   ],
   "source": [
    "# from_rgb_to_array = np.array([[[rgb[0], rgb[1], rgb[2]]]], dtype=np.uint8)\n",
    "# # convert the color to HSV\n",
    "# hsvGreen = cv2.cvtColor(from_rgb_to_array, cv2.COLOR_BGR2HSV)\n",
    "\n",
    "# hue_value = hsvGreen[0][0][0]\n",
    "\n",
    "# print(hue_value)"
   ]
  }
 ],
 "metadata": {
  "kernelspec": {
   "display_name": "Python 3 (ipykernel)",
   "language": "python",
   "name": "python3"
  },
  "language_info": {
   "codemirror_mode": {
    "name": "ipython",
    "version": 3
   },
   "file_extension": ".py",
   "mimetype": "text/x-python",
   "name": "python",
   "nbconvert_exporter": "python",
   "pygments_lexer": "ipython3",
   "version": "3.11.3"
  }
 },
 "nbformat": 4,
 "nbformat_minor": 5
}
